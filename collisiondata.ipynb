{
    "cells": [
        {
            "cell_type": "markdown",
            "metadata": {
                "collapsed": true
            },
            "source": "# Capstone Project - Collision Data Analysis of Seattle City"
        },
        {
            "cell_type": "markdown",
            "metadata": {},
            "source": "## Table of contents\n* [Introduction](#introduction)\n* [Data](#data)"
        },
        {
            "cell_type": "markdown",
            "metadata": {},
            "source": "## Introduction <a name=\"Introduction\"></a>"
        },
        {
            "cell_type": "markdown",
            "metadata": {},
            "source": "In this project, we will  analyze collision data from the city of Seattle recorded between years 2004-2020 and build a machine learning model to predict the severity of the collision based on various factors. Seattle city is well known for its challenging weather and driving conditions. It represents majority of the cities in the USA in terms of many factors. This project is particularly useful for the Seattle police and traffic department, interested in knowing how severe the collision is going to be based on several factors such as location, type of vehicle, weather conditions and others. They would also want to understand the intensity of impact of different factors on the outcome of such collisions. The whole idea behind this project is to build a robust model that can predict the severity of a collision and provide insights into how to prevent such collisions so that the drivers can be alerted in time.\n\nWe will use various methods of data science in this project, explore data, build a predictive model, and draw conclusions at the end. We will also use insights from our results to help stakeholders create a concrete plan to prevent or limit severity of such collisions and help them improve the response time in case of emergencies."
        },
        {
            "cell_type": "markdown",
            "metadata": {},
            "source": "## Data <a name=\"Data\"></a>"
        },
        {
            "cell_type": "markdown",
            "metadata": {},
            "source": "The data for this project was collected from the shared data included in IBM's Applied Data Science Capstone Project - [Download Link](https://s3.us.cloud-object-storage.appdomain.cloud/cf-courses-data/CognitiveClass/DP0701EN/version-2/Data-Collisions.csv). This dataset includes many useful features to build a robust predictive machine learning model.\n\nData at glance :\n* The data has been provided by SPD and traffic records. \n* The data contains all types of collisions that occurred between 2004-2020. \n* It has a total of around 195000 records.\n* The table consists of various columns such as location, date and time, severity, collision type, weather etc. \n\nWe will first use various data exploration techniques to visually understand the data and gain insights. Then we will select data features with the most impact on severity of the collision. We will also be using location data to explore where the collisions occur the most and what could be the reasons behind it. This step will ensure that most impacted regions will get more weight in our prediction model."
        },
        {
            "cell_type": "code",
            "execution_count": null,
            "metadata": {},
            "outputs": [],
            "source": ""
        },
        {
            "cell_type": "code",
            "execution_count": null,
            "metadata": {},
            "outputs": [],
            "source": ""
        }
    ],
    "metadata": {
        "kernelspec": {
            "display_name": "Python 3.6",
            "language": "python",
            "name": "python3"
        },
        "language_info": {
            "codemirror_mode": {
                "name": "ipython",
                "version": 3
            },
            "file_extension": ".py",
            "mimetype": "text/x-python",
            "name": "python",
            "nbconvert_exporter": "python",
            "pygments_lexer": "ipython3",
            "version": "3.6.9"
        }
    },
    "nbformat": 4,
    "nbformat_minor": 1
}